{
 "cells": [
  {
   "cell_type": "code",
   "execution_count": 1,
   "metadata": {
    "collapsed": true
   },
   "outputs": [],
   "source": [
    "import pandas as pd"
   ]
  },
  {
   "cell_type": "code",
   "execution_count": 2,
   "metadata": {
    "collapsed": true
   },
   "outputs": [],
   "source": [
    "import numpy as np"
   ]
  },
  {
   "cell_type": "code",
   "execution_count": 3,
   "metadata": {},
   "outputs": [],
   "source": [
    "data = pd.read_csv('Portfolio.csv', sep= \",\")"
   ]
  },
  {
   "cell_type": "code",
   "execution_count": 4,
   "metadata": {},
   "outputs": [],
   "source": [
    "data['Date'] = pd.to_datetime(data['Date'], format= '%d/%m/%y')"
   ]
  },
  {
   "cell_type": "code",
   "execution_count": 5,
   "metadata": {},
   "outputs": [
    {
     "data": {
      "text/html": [
       "<div>\n",
       "<style scoped>\n",
       "    .dataframe tbody tr th:only-of-type {\n",
       "        vertical-align: middle;\n",
       "    }\n",
       "\n",
       "    .dataframe tbody tr th {\n",
       "        vertical-align: top;\n",
       "    }\n",
       "\n",
       "    .dataframe thead th {\n",
       "        text-align: right;\n",
       "    }\n",
       "</style>\n",
       "<table border=\"1\" class=\"dataframe\">\n",
       "  <thead>\n",
       "    <tr style=\"text-align: right;\">\n",
       "      <th></th>\n",
       "      <th>Date</th>\n",
       "      <th>FVX</th>\n",
       "      <th>GSPC</th>\n",
       "      <th>AMD</th>\n",
       "      <th>AMZN</th>\n",
       "      <th>GOOGL</th>\n",
       "      <th>MSFT</th>\n",
       "      <th>WMT</th>\n",
       "    </tr>\n",
       "  </thead>\n",
       "  <tbody>\n",
       "    <tr>\n",
       "      <th>0</th>\n",
       "      <td>2008-01-10</td>\n",
       "      <td>2.821</td>\n",
       "      <td>968.750000</td>\n",
       "      <td>3.50</td>\n",
       "      <td>57.240002</td>\n",
       "      <td>179.859863</td>\n",
       "      <td>17.384617</td>\n",
       "      <td>43.533268</td>\n",
       "    </tr>\n",
       "    <tr>\n",
       "      <th>1</th>\n",
       "      <td>2008-01-11</td>\n",
       "      <td>1.944</td>\n",
       "      <td>896.239990</td>\n",
       "      <td>2.36</td>\n",
       "      <td>42.700001</td>\n",
       "      <td>146.626633</td>\n",
       "      <td>15.741920</td>\n",
       "      <td>43.587860</td>\n",
       "    </tr>\n",
       "    <tr>\n",
       "      <th>2</th>\n",
       "      <td>2008-01-12</td>\n",
       "      <td>1.551</td>\n",
       "      <td>903.250000</td>\n",
       "      <td>2.16</td>\n",
       "      <td>51.279999</td>\n",
       "      <td>153.978973</td>\n",
       "      <td>15.237188</td>\n",
       "      <td>43.728271</td>\n",
       "    </tr>\n",
       "    <tr>\n",
       "      <th>3</th>\n",
       "      <td>2009-01-01</td>\n",
       "      <td>1.873</td>\n",
       "      <td>825.880005</td>\n",
       "      <td>2.19</td>\n",
       "      <td>58.820000</td>\n",
       "      <td>169.434433</td>\n",
       "      <td>13.403088</td>\n",
       "      <td>36.913517</td>\n",
       "    </tr>\n",
       "    <tr>\n",
       "      <th>4</th>\n",
       "      <td>2009-01-02</td>\n",
       "      <td>2.020</td>\n",
       "      <td>735.090027</td>\n",
       "      <td>2.18</td>\n",
       "      <td>64.790001</td>\n",
       "      <td>169.164169</td>\n",
       "      <td>12.658468</td>\n",
       "      <td>38.574318</td>\n",
       "    </tr>\n",
       "  </tbody>\n",
       "</table>\n",
       "</div>"
      ],
      "text/plain": [
       "        Date    FVX        GSPC   AMD       AMZN       GOOGL       MSFT  \\\n",
       "0 2008-01-10  2.821  968.750000  3.50  57.240002  179.859863  17.384617   \n",
       "1 2008-01-11  1.944  896.239990  2.36  42.700001  146.626633  15.741920   \n",
       "2 2008-01-12  1.551  903.250000  2.16  51.279999  153.978973  15.237188   \n",
       "3 2009-01-01  1.873  825.880005  2.19  58.820000  169.434433  13.403088   \n",
       "4 2009-01-02  2.020  735.090027  2.18  64.790001  169.164169  12.658468   \n",
       "\n",
       "         WMT  \n",
       "0  43.533268  \n",
       "1  43.587860  \n",
       "2  43.728271  \n",
       "3  36.913517  \n",
       "4  38.574318  "
      ]
     },
     "execution_count": 5,
     "metadata": {},
     "output_type": "execute_result"
    }
   ],
   "source": [
    "data.head()"
   ]
  },
  {
   "cell_type": "code",
   "execution_count": 6,
   "metadata": {},
   "outputs": [
    {
     "data": {
      "text/plain": [
       "968"
      ]
     },
     "execution_count": 6,
     "metadata": {},
     "output_type": "execute_result"
    }
   ],
   "source": [
    "data.size"
   ]
  },
  {
   "cell_type": "code",
   "execution_count": 7,
   "metadata": {},
   "outputs": [],
   "source": [
    "data = data.sort_values('Date')"
   ]
  },
  {
   "cell_type": "code",
   "execution_count": 8,
   "metadata": {
    "collapsed": true
   },
   "outputs": [],
   "source": [
    "returns = data[[key for key in dict(data.dtypes) if dict(data.dtypes)[key] in ('float64', 'int64') ]].pct_change()"
   ]
  },
  {
   "cell_type": "code",
   "execution_count": 9,
   "metadata": {},
   "outputs": [
    {
     "data": {
      "text/html": [
       "<div>\n",
       "<style scoped>\n",
       "    .dataframe tbody tr th:only-of-type {\n",
       "        vertical-align: middle;\n",
       "    }\n",
       "\n",
       "    .dataframe tbody tr th {\n",
       "        vertical-align: top;\n",
       "    }\n",
       "\n",
       "    .dataframe thead th {\n",
       "        text-align: right;\n",
       "    }\n",
       "</style>\n",
       "<table border=\"1\" class=\"dataframe\">\n",
       "  <thead>\n",
       "    <tr style=\"text-align: right;\">\n",
       "      <th></th>\n",
       "      <th>FVX</th>\n",
       "      <th>GSPC</th>\n",
       "      <th>AMD</th>\n",
       "      <th>AMZN</th>\n",
       "      <th>GOOGL</th>\n",
       "      <th>MSFT</th>\n",
       "      <th>WMT</th>\n",
       "    </tr>\n",
       "  </thead>\n",
       "  <tbody>\n",
       "    <tr>\n",
       "      <th>0</th>\n",
       "      <td>NaN</td>\n",
       "      <td>NaN</td>\n",
       "      <td>NaN</td>\n",
       "      <td>NaN</td>\n",
       "      <td>NaN</td>\n",
       "      <td>NaN</td>\n",
       "      <td>NaN</td>\n",
       "    </tr>\n",
       "    <tr>\n",
       "      <th>1</th>\n",
       "      <td>-0.310883</td>\n",
       "      <td>-0.074849</td>\n",
       "      <td>-0.325714</td>\n",
       "      <td>-0.254018</td>\n",
       "      <td>-0.184773</td>\n",
       "      <td>-0.094491</td>\n",
       "      <td>0.001254</td>\n",
       "    </tr>\n",
       "    <tr>\n",
       "      <th>2</th>\n",
       "      <td>-0.202160</td>\n",
       "      <td>0.007822</td>\n",
       "      <td>-0.084746</td>\n",
       "      <td>0.200937</td>\n",
       "      <td>0.050143</td>\n",
       "      <td>-0.032063</td>\n",
       "      <td>0.003221</td>\n",
       "    </tr>\n",
       "    <tr>\n",
       "      <th>3</th>\n",
       "      <td>0.207608</td>\n",
       "      <td>-0.085657</td>\n",
       "      <td>0.013889</td>\n",
       "      <td>0.147036</td>\n",
       "      <td>0.100374</td>\n",
       "      <td>-0.120370</td>\n",
       "      <td>-0.155843</td>\n",
       "    </tr>\n",
       "    <tr>\n",
       "      <th>4</th>\n",
       "      <td>0.078484</td>\n",
       "      <td>-0.109931</td>\n",
       "      <td>-0.004566</td>\n",
       "      <td>0.101496</td>\n",
       "      <td>-0.001595</td>\n",
       "      <td>-0.055556</td>\n",
       "      <td>0.044992</td>\n",
       "    </tr>\n",
       "  </tbody>\n",
       "</table>\n",
       "</div>"
      ],
      "text/plain": [
       "        FVX      GSPC       AMD      AMZN     GOOGL      MSFT       WMT\n",
       "0       NaN       NaN       NaN       NaN       NaN       NaN       NaN\n",
       "1 -0.310883 -0.074849 -0.325714 -0.254018 -0.184773 -0.094491  0.001254\n",
       "2 -0.202160  0.007822 -0.084746  0.200937  0.050143 -0.032063  0.003221\n",
       "3  0.207608 -0.085657  0.013889  0.147036  0.100374 -0.120370 -0.155843\n",
       "4  0.078484 -0.109931 -0.004566  0.101496 -0.001595 -0.055556  0.044992"
      ]
     },
     "execution_count": 9,
     "metadata": {},
     "output_type": "execute_result"
    }
   ],
   "source": [
    "returns.head()"
   ]
  },
  {
   "cell_type": "code",
   "execution_count": 10,
   "metadata": {},
   "outputs": [
    {
     "data": {
      "text/html": [
       "<div>\n",
       "<style scoped>\n",
       "    .dataframe tbody tr th:only-of-type {\n",
       "        vertical-align: middle;\n",
       "    }\n",
       "\n",
       "    .dataframe tbody tr th {\n",
       "        vertical-align: top;\n",
       "    }\n",
       "\n",
       "    .dataframe thead th {\n",
       "        text-align: right;\n",
       "    }\n",
       "</style>\n",
       "<table border=\"1\" class=\"dataframe\">\n",
       "  <thead>\n",
       "    <tr style=\"text-align: right;\">\n",
       "      <th></th>\n",
       "      <th>FVX</th>\n",
       "      <th>GSPC</th>\n",
       "      <th>AMD</th>\n",
       "      <th>AMZN</th>\n",
       "      <th>GOOGL</th>\n",
       "      <th>MSFT</th>\n",
       "      <th>WMT</th>\n",
       "    </tr>\n",
       "  </thead>\n",
       "  <tbody>\n",
       "    <tr>\n",
       "      <th>1</th>\n",
       "      <td>-0.310883</td>\n",
       "      <td>-0.074849</td>\n",
       "      <td>-0.325714</td>\n",
       "      <td>-0.254018</td>\n",
       "      <td>-0.184773</td>\n",
       "      <td>-0.094491</td>\n",
       "      <td>0.001254</td>\n",
       "    </tr>\n",
       "    <tr>\n",
       "      <th>2</th>\n",
       "      <td>-0.202160</td>\n",
       "      <td>0.007822</td>\n",
       "      <td>-0.084746</td>\n",
       "      <td>0.200937</td>\n",
       "      <td>0.050143</td>\n",
       "      <td>-0.032063</td>\n",
       "      <td>0.003221</td>\n",
       "    </tr>\n",
       "    <tr>\n",
       "      <th>3</th>\n",
       "      <td>0.207608</td>\n",
       "      <td>-0.085657</td>\n",
       "      <td>0.013889</td>\n",
       "      <td>0.147036</td>\n",
       "      <td>0.100374</td>\n",
       "      <td>-0.120370</td>\n",
       "      <td>-0.155843</td>\n",
       "    </tr>\n",
       "    <tr>\n",
       "      <th>4</th>\n",
       "      <td>0.078484</td>\n",
       "      <td>-0.109931</td>\n",
       "      <td>-0.004566</td>\n",
       "      <td>0.101496</td>\n",
       "      <td>-0.001595</td>\n",
       "      <td>-0.055556</td>\n",
       "      <td>0.044992</td>\n",
       "    </tr>\n",
       "    <tr>\n",
       "      <th>5</th>\n",
       "      <td>-0.170792</td>\n",
       "      <td>0.085404</td>\n",
       "      <td>0.399083</td>\n",
       "      <td>0.133508</td>\n",
       "      <td>0.029794</td>\n",
       "      <td>0.145261</td>\n",
       "      <td>0.058083</td>\n",
       "    </tr>\n",
       "  </tbody>\n",
       "</table>\n",
       "</div>"
      ],
      "text/plain": [
       "        FVX      GSPC       AMD      AMZN     GOOGL      MSFT       WMT\n",
       "1 -0.310883 -0.074849 -0.325714 -0.254018 -0.184773 -0.094491  0.001254\n",
       "2 -0.202160  0.007822 -0.084746  0.200937  0.050143 -0.032063  0.003221\n",
       "3  0.207608 -0.085657  0.013889  0.147036  0.100374 -0.120370 -0.155843\n",
       "4  0.078484 -0.109931 -0.004566  0.101496 -0.001595 -0.055556  0.044992\n",
       "5 -0.170792  0.085404  0.399083  0.133508  0.029794  0.145261  0.058083"
      ]
     },
     "execution_count": 10,
     "metadata": {},
     "output_type": "execute_result"
    }
   ],
   "source": [
    "returns = returns[1:]\n",
    "returns.head()"
   ]
  },
  {
   "cell_type": "code",
   "execution_count": 11,
   "metadata": {},
   "outputs": [],
   "source": [
    "stockNames = list(data)[1:]\n",
    "n  = len(stockNames)"
   ]
  },
  {
   "cell_type": "code",
   "execution_count": 12,
   "metadata": {},
   "outputs": [
    {
     "data": {
      "text/html": [
       "<div>\n",
       "<style scoped>\n",
       "    .dataframe tbody tr th:only-of-type {\n",
       "        vertical-align: middle;\n",
       "    }\n",
       "\n",
       "    .dataframe tbody tr th {\n",
       "        vertical-align: top;\n",
       "    }\n",
       "\n",
       "    .dataframe thead th {\n",
       "        text-align: right;\n",
       "    }\n",
       "</style>\n",
       "<table border=\"1\" class=\"dataframe\">\n",
       "  <thead>\n",
       "    <tr style=\"text-align: right;\">\n",
       "      <th></th>\n",
       "      <th>FVX</th>\n",
       "      <th>GSPC</th>\n",
       "      <th>AMD</th>\n",
       "      <th>AMZN</th>\n",
       "      <th>GOOGL</th>\n",
       "      <th>MSFT</th>\n",
       "      <th>WMT</th>\n",
       "    </tr>\n",
       "  </thead>\n",
       "  <tbody>\n",
       "    <tr>\n",
       "      <th>1</th>\n",
       "      <td>-0.310883</td>\n",
       "      <td>-0.074849</td>\n",
       "      <td>-0.325714</td>\n",
       "      <td>-0.254018</td>\n",
       "      <td>-0.184773</td>\n",
       "      <td>-0.094491</td>\n",
       "      <td>0.001254</td>\n",
       "    </tr>\n",
       "    <tr>\n",
       "      <th>2</th>\n",
       "      <td>-0.202160</td>\n",
       "      <td>0.007822</td>\n",
       "      <td>-0.084746</td>\n",
       "      <td>0.200937</td>\n",
       "      <td>0.050143</td>\n",
       "      <td>-0.032063</td>\n",
       "      <td>0.003221</td>\n",
       "    </tr>\n",
       "    <tr>\n",
       "      <th>3</th>\n",
       "      <td>0.207608</td>\n",
       "      <td>-0.085657</td>\n",
       "      <td>0.013889</td>\n",
       "      <td>0.147036</td>\n",
       "      <td>0.100374</td>\n",
       "      <td>-0.120370</td>\n",
       "      <td>-0.155843</td>\n",
       "    </tr>\n",
       "    <tr>\n",
       "      <th>4</th>\n",
       "      <td>0.078484</td>\n",
       "      <td>-0.109931</td>\n",
       "      <td>-0.004566</td>\n",
       "      <td>0.101496</td>\n",
       "      <td>-0.001595</td>\n",
       "      <td>-0.055556</td>\n",
       "      <td>0.044992</td>\n",
       "    </tr>\n",
       "    <tr>\n",
       "      <th>5</th>\n",
       "      <td>-0.170792</td>\n",
       "      <td>0.085404</td>\n",
       "      <td>0.399083</td>\n",
       "      <td>0.133508</td>\n",
       "      <td>0.029794</td>\n",
       "      <td>0.145261</td>\n",
       "      <td>0.058083</td>\n",
       "    </tr>\n",
       "  </tbody>\n",
       "</table>\n",
       "</div>"
      ],
      "text/plain": [
       "        FVX      GSPC       AMD      AMZN     GOOGL      MSFT       WMT\n",
       "1 -0.310883 -0.074849 -0.325714 -0.254018 -0.184773 -0.094491  0.001254\n",
       "2 -0.202160  0.007822 -0.084746  0.200937  0.050143 -0.032063  0.003221\n",
       "3  0.207608 -0.085657  0.013889  0.147036  0.100374 -0.120370 -0.155843\n",
       "4  0.078484 -0.109931 -0.004566  0.101496 -0.001595 -0.055556  0.044992\n",
       "5 -0.170792  0.085404  0.399083  0.133508  0.029794  0.145261  0.058083"
      ]
     },
     "execution_count": 12,
     "metadata": {},
     "output_type": "execute_result"
    }
   ],
   "source": [
    "returns.head()"
   ]
  },
  {
   "cell_type": "code",
   "execution_count": 13,
   "metadata": {},
   "outputs": [],
   "source": [
    "#Linear programming\n",
    "#!pip install cvxopt\n",
    "import cvxopt as opt #convex optimizer\n",
    "\n",
    "#Minimize Loss\n",
    "#Subject to Portfolio Weight = 1\n",
    "#Weights are non negative\n",
    "#Return >= Expected return"
   ]
  },
  {
   "cell_type": "code",
   "execution_count": 14,
   "metadata": {
    "collapsed": true
   },
   "outputs": [],
   "source": [
    "from cvxopt import matrix,solvers"
   ]
  },
  {
   "cell_type": "code",
   "execution_count": 15,
   "metadata": {
    "collapsed": true
   },
   "outputs": [],
   "source": [
    "expectedReturn = np.mean(returns)\n",
    "maxLoss = np.min(returns)"
   ]
  },
  {
   "cell_type": "code",
   "execution_count": 153,
   "metadata": {},
   "outputs": [
    {
     "data": {
      "text/plain": [
       "<7x1 matrix, tc='d'>"
      ]
     },
     "execution_count": 153,
     "metadata": {},
     "output_type": "execute_result"
    }
   ],
   "source": [
    "expectedReturn"
   ]
  },
  {
   "cell_type": "code",
   "execution_count": 17,
   "metadata": {
    "collapsed": true
   },
   "outputs": [],
   "source": [
    "expectedReturn = matrix(expectedReturn)"
   ]
  },
  {
   "cell_type": "code",
   "execution_count": 18,
   "metadata": {},
   "outputs": [
    {
     "data": {
      "text/plain": [
       "FVX     -0.310883\n",
       "GSPC    -0.109931\n",
       "AMD     -0.391691\n",
       "AMZN    -0.254018\n",
       "GOOGL   -0.184773\n",
       "MSFT    -0.155206\n",
       "WMT     -0.155843\n",
       "dtype: float64"
      ]
     },
     "execution_count": 18,
     "metadata": {},
     "output_type": "execute_result"
    }
   ],
   "source": [
    "maxLoss"
   ]
  },
  {
   "cell_type": "code",
   "execution_count": 85,
   "metadata": {
    "collapsed": true
   },
   "outputs": [],
   "source": [
    "#We seek to minimize the maximum loss of our portfolio\n",
    "risk = -1*maxLoss #converting to to positive value"
   ]
  },
  {
   "cell_type": "code",
   "execution_count": 138,
   "metadata": {},
   "outputs": [
    {
     "data": {
      "text/plain": [
       "FVX      0.310883\n",
       "GSPC     0.109931\n",
       "AMD      0.391691\n",
       "AMZN     0.254018\n",
       "GOOGL    0.184773\n",
       "dtype: float64"
      ]
     },
     "execution_count": 138,
     "metadata": {},
     "output_type": "execute_result"
    }
   ],
   "source": [
    "risk.head()"
   ]
  },
  {
   "cell_type": "code",
   "execution_count": 139,
   "metadata": {
    "collapsed": true
   },
   "outputs": [],
   "source": [
    "objective = matrix(risk)"
   ]
  },
  {
   "cell_type": "code",
   "execution_count": 140,
   "metadata": {
    "collapsed": true
   },
   "outputs": [],
   "source": [
    "constraintEqualityLhs = matrix(1.0, (1,n)) #total portfolio percentage - 100%"
   ]
  },
  {
   "cell_type": "code",
   "execution_count": 141,
   "metadata": {},
   "outputs": [
    {
     "data": {
      "text/plain": [
       "<1x7 matrix, tc='d'>"
      ]
     },
     "execution_count": 141,
     "metadata": {},
     "output_type": "execute_result"
    }
   ],
   "source": [
    "constraintEqualityLhs"
   ]
  },
  {
   "cell_type": "code",
   "execution_count": 142,
   "metadata": {},
   "outputs": [],
   "source": [
    "constraintEqualityRhs = matrix(1.0)"
   ]
  },
  {
   "cell_type": "code",
   "execution_count": 143,
   "metadata": {},
   "outputs": [],
   "source": [
    "constraintInequalityLhsRow1 = matrix(-np.identity(n))  #non negativity constraint"
   ]
  },
  {
   "cell_type": "code",
   "execution_count": 144,
   "metadata": {},
   "outputs": [],
   "source": [
    "constraintInequalityRhsRow1 = matrix(0.0, (n,1)) #n rows with 1 column in which every value equal 0 "
   ]
  },
  {
   "cell_type": "code",
   "execution_count": 145,
   "metadata": {
    "collapsed": true
   },
   "outputs": [],
   "source": [
    "constraintInequalityLhsRow2 = matrix(-np.transpose(np.array(expectedReturn)))"
   ]
  },
  {
   "cell_type": "code",
   "execution_count": 146,
   "metadata": {
    "collapsed": true
   },
   "outputs": [],
   "source": [
    "constraintInequalityRhsRow2 = matrix(-np.ones((1,1))*0.02) #(greater than 2% expected return)"
   ]
  },
  {
   "cell_type": "code",
   "execution_count": 147,
   "metadata": {},
   "outputs": [],
   "source": [
    "constraintInEqualityLhscombined = matrix(np.concatenate((constraintInequalityLhsRow1, constraintInequalityLhsRow2),0))"
   ]
  },
  {
   "cell_type": "code",
   "execution_count": 148,
   "metadata": {},
   "outputs": [],
   "source": [
    "constraintInEqualityRhscombined = matrix(np.concatenate((constraintInequalityRhsRow1, constraintInequalityRhsRow2),0))"
   ]
  },
  {
   "cell_type": "code",
   "execution_count": 149,
   "metadata": {},
   "outputs": [
    {
     "name": "stdout",
     "output_type": "stream",
     "text": [
      "     pcost       dcost       gap    pres   dres   k/t\n",
      " 0:  2.2320e-01  2.4546e-01  1e+01  3e+00  3e+00  1e+00\n",
      " 1:  1.8866e-01  7.8911e-02  5e-01  3e-01  3e-01  4e-03\n",
      " 2:  1.5071e-01  1.3485e-01  6e-02  6e-02  6e-02  3e-03\n",
      " 3:  1.3212e-01  1.2621e-01  3e-02  2e-02  2e-02  2e-03\n",
      " 4:  1.7453e-01  1.7250e-01  6e-02  2e-02  2e-02  5e-03\n",
      " 5:  1.6857e-01  1.6836e-01  7e-03  2e-03  3e-03  6e-04\n",
      " 6:  1.7105e-01  1.7103e-01  8e-04  3e-04  3e-04  8e-05\n",
      " 7:  1.7107e-01  1.7106e-01  4e-04  1e-04  1e-04  4e-05\n",
      " 8:  1.7122e-01  1.7122e-01  5e-05  2e-05  2e-05  5e-06\n",
      " 9:  1.7122e-01  1.7122e-01  5e-07  2e-07  2e-07  6e-08\n",
      "10:  1.7122e-01  1.7122e-01  5e-09  2e-09  2e-09  6e-10\n",
      "Optimal solution found.\n"
     ]
    }
   ],
   "source": [
    "solution = solvers.lp(objective, constraintInEqualityLhscombined, constraintInEqualityRhscombined, constraintEqualityLhs, constraintEqualityRhs)"
   ]
  },
  {
   "cell_type": "code",
   "execution_count": 150,
   "metadata": {
    "collapsed": true
   },
   "outputs": [],
   "source": [
    "weightsLinear = solution['x']"
   ]
  },
  {
   "cell_type": "code",
   "execution_count": 151,
   "metadata": {},
   "outputs": [],
   "source": [
    "weightsLinear = np.array(weightsLinear)"
   ]
  },
  {
   "cell_type": "code",
   "execution_count": 152,
   "metadata": {},
   "outputs": [
    {
     "data": {
      "text/plain": [
       "array([[  2.16392849e-09],\n",
       "       [  1.06393816e-06],\n",
       "       [  2.87482253e-09],\n",
       "       [  1.62059004e-01],\n",
       "       [  2.00792420e-08],\n",
       "       [  8.37939898e-01],\n",
       "       [  8.89739496e-09]])"
      ]
     },
     "execution_count": 152,
     "metadata": {},
     "output_type": "execute_result"
    }
   ],
   "source": [
    "weightsLinear"
   ]
  },
  {
   "cell_type": "code",
   "execution_count": 134,
   "metadata": {},
   "outputs": [
    {
     "data": {
      "text/plain": [
       "array([[  2.16392893e-09],\n",
       "       [  1.06393819e-06],\n",
       "       [  2.87482298e-09],\n",
       "       [  1.62059004e-01],\n",
       "       [  2.00792428e-08],\n",
       "       [  8.37939898e-01],\n",
       "       [  8.89739555e-09]])"
      ]
     },
     "execution_count": 134,
     "metadata": {},
     "output_type": "execute_result"
    }
   ],
   "source": [
    "np.sort(weightsLinear)"
   ]
  },
  {
   "cell_type": "code",
   "execution_count": 126,
   "metadata": {},
   "outputs": [
    {
     "data": {
      "text/plain": [
       "0.83793989838187344"
      ]
     },
     "execution_count": 126,
     "metadata": {},
     "output_type": "execute_result"
    }
   ],
   "source": [
    "np.max(weightsLinear)"
   ]
  },
  {
   "cell_type": "code",
   "execution_count": 113,
   "metadata": {},
   "outputs": [
    {
     "data": {
      "text/plain": [
       "array([ 1.])"
      ]
     },
     "execution_count": 113,
     "metadata": {},
     "output_type": "execute_result"
    }
   ],
   "source": [
    "sum(weightsLinear)"
   ]
  },
  {
   "cell_type": "code",
   "execution_count": 106,
   "metadata": {
    "collapsed": true
   },
   "outputs": [],
   "source": [
    "portfolioRisk = np.dot(weightsLinear.T, risk)"
   ]
  },
  {
   "cell_type": "code",
   "execution_count": 108,
   "metadata": {},
   "outputs": [
    {
     "data": {
      "text/plain": [
       "array([ 0.17121958])"
      ]
     },
     "execution_count": 108,
     "metadata": {},
     "output_type": "execute_result"
    }
   ],
   "source": [
    "portfolioRisk\n",
    "#worst case scenario , we will lose 17% (conservative estimate)"
   ]
  },
  {
   "cell_type": "code",
   "execution_count": 154,
   "metadata": {
    "collapsed": true
   },
   "outputs": [],
   "source": [
    "portfolioReturn = np.dot(expectedReturn.T, weightsLinear)"
   ]
  },
  {
   "cell_type": "code",
   "execution_count": 155,
   "metadata": {},
   "outputs": [
    {
     "data": {
      "text/plain": [
       "array([[ 0.02]])"
      ]
     },
     "execution_count": 155,
     "metadata": {},
     "output_type": "execute_result"
    }
   ],
   "source": [
    "portfolioReturn"
   ]
  },
  {
   "cell_type": "code",
   "execution_count": null,
   "metadata": {
    "collapsed": true
   },
   "outputs": [],
   "source": [
    "#Change risk to be portfolio variance (rathen than sum of maxloss of each stock)\n",
    "#Variance of a portfolio is found using covariance matrix\n",
    "#Objective function has quadratic terms\n",
    "#Quadratic programming"
   ]
  },
  {
   "cell_type": "code",
   "execution_count": 157,
   "metadata": {},
   "outputs": [],
   "source": [
    "#Integer programming - cannot use convex optimizer directly\n",
    "from cvxopt import glpk"
   ]
  },
  {
   "cell_type": "code",
   "execution_count": null,
   "metadata": {
    "collapsed": true
   },
   "outputs": [],
   "source": [
    "constraintInequalityLhsRow2 = matrix(-np.transpose(np.array(expectedReturn)))"
   ]
  },
  {
   "cell_type": "code",
   "execution_count": null,
   "metadata": {
    "collapsed": true
   },
   "outputs": [],
   "source": [
    "constraintInequalityRhsRow2 = matrix(-np.ones((1,1))*0.02) #(greater than 2% expected return)"
   ]
  }
 ],
 "metadata": {
  "kernelspec": {
   "display_name": "Python 3",
   "language": "python",
   "name": "python3"
  },
  "language_info": {
   "codemirror_mode": {
    "name": "ipython",
    "version": 3
   },
   "file_extension": ".py",
   "mimetype": "text/x-python",
   "name": "python",
   "nbconvert_exporter": "python",
   "pygments_lexer": "ipython3",
   "version": "3.6.3"
  }
 },
 "nbformat": 4,
 "nbformat_minor": 2
}
